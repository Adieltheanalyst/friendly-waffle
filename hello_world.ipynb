{
 "cells": [
  {
   "cell_type": "markdown",
   "id": "fda8a0b7",
   "metadata": {},
   "source": [
    "Hello World Agent"
   ]
  },
  {
   "cell_type": "code",
   "execution_count": 1,
   "id": "46821c08",
   "metadata": {},
   "outputs": [],
   "source": [
    "from typing import Dict, TypedDict\n",
    "from langgraph.graph import StateGraph "
   ]
  },
  {
   "cell_type": "code",
   "execution_count": null,
   "id": "23133fb7",
   "metadata": {},
   "outputs": [],
   "source": [
    "class AgentState(TypedDict): # Our state schema\n",
    "    message : str\n",
    "\n",
    "def greeting_node(state: AgentState) -> AgentState:\n",
    "    \"\"\"simple node that adds greeting message to the state \"\"\"\n",
    "    state[\"message\"]=\"Hey\" +state[\"message\"]+ \", how is your day going?\"\n",
    "    return state\n"
   ]
  },
  {
   "cell_type": "code",
   "execution_count": 3,
   "id": "bf40a231",
   "metadata": {},
   "outputs": [],
   "source": [
    "graph=StateGraph(AgentState)\n",
    "graph.add_node(\"greeter\",greeting_node)\n",
    "graph.set_entry_point(\"greeter\")\n",
    "graph.set_finish_point(\"greeter\")\n",
    "app=graph.compile()"
   ]
  },
  {
   "cell_type": "code",
   "execution_count": null,
   "id": "46b5ac41",
   "metadata": {},
   "outputs": [],
   "source": [
    "from Ipython.display "
   ]
  }
 ],
 "metadata": {
  "kernelspec": {
   "display_name": ".venv",
   "language": "python",
   "name": "python3"
  },
  "language_info": {
   "codemirror_mode": {
    "name": "ipython",
    "version": 3
   },
   "file_extension": ".py",
   "mimetype": "text/x-python",
   "name": "python",
   "nbconvert_exporter": "python",
   "pygments_lexer": "ipython3",
   "version": "3.12.4"
  }
 },
 "nbformat": 4,
 "nbformat_minor": 5
}
